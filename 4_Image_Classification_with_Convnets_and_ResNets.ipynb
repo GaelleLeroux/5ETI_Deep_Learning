{
 "cells": [
  {
   "cell_type": "markdown",
   "metadata": {},
   "source": [
    "## PyTorch Tutorial\n",
    "\n",
    "\n",
    "M Sdika\n",
    "\n",
    "Adapted from\n",
    "\n",
    "    https://github.com/mila-udem/welcome_tutorials/tree/master/pytorch\n",
    "\n"
   ]
  },
  {
   "cell_type": "markdown",
   "metadata": {},
   "source": [
    "## Classifying MNIST & CIFAR-10 with Convnets & ResNets"
   ]
  },
  {
   "cell_type": "code",
   "execution_count": 1,
   "metadata": {},
   "outputs": [],
   "source": [
    "import time\n",
    "import numpy as np\n"
   ]
  },
  {
   "cell_type": "code",
   "execution_count": 2,
   "metadata": {},
   "outputs": [],
   "source": [
    "import torch\n",
    "import torch.nn as nn\n",
    "import torch.optim as optim\n",
    "import torch.nn.init as init\n",
    "import torch.nn.functional as F\n"
   ]
  },
  {
   "cell_type": "code",
   "execution_count": 3,
   "metadata": {},
   "outputs": [],
   "source": [
    "import torchvision\n",
    "import torchvision.transforms"
   ]
  },
  {
   "cell_type": "code",
   "execution_count": 4,
   "metadata": {},
   "outputs": [],
   "source": [
    "import matplotlib.pyplot as plt"
   ]
  },
  {
   "cell_type": "code",
   "execution_count": 5,
   "metadata": {},
   "outputs": [],
   "source": [
    "def count_parameters(model):\n",
    "    #for parameter in model.parameters():\n",
    "    #    print(parameter)\n",
    "    #print ('nb of trainable parameters')\n",
    "    return (sum([p.numel() for p in model.parameters() if p.requires_grad]))\n"
   ]
  },
  {
   "cell_type": "markdown",
   "metadata": {},
   "source": [
    "### Define image transformations &  Initialize datasets"
   ]
  },
  {
   "cell_type": "code",
   "execution_count": 6,
   "metadata": {},
   "outputs": [
    {
     "name": "stdout",
     "output_type": "stream",
     "text": [
      "Downloading http://yann.lecun.com/exdb/mnist/train-images-idx3-ubyte.gz\n",
      "Failed to download (trying next):\n",
      "<urlopen error [SSL: CERTIFICATE_VERIFY_FAILED] certificate verify failed: certificate has expired (_ssl.c:1129)>\n",
      "\n",
      "Downloading https://ossci-datasets.s3.amazonaws.com/mnist/train-images-idx3-ubyte.gz\n",
      "Downloading https://ossci-datasets.s3.amazonaws.com/mnist/train-images-idx3-ubyte.gz to ../data\\MNIST\\raw\\train-images-idx3-ubyte.gz\n"
     ]
    },
    {
     "name": "stderr",
     "output_type": "stream",
     "text": [
      "100%|██████████| 9912422/9912422 [00:04<00:00, 2391982.82it/s]\n"
     ]
    },
    {
     "name": "stdout",
     "output_type": "stream",
     "text": [
      "Extracting ../data\\MNIST\\raw\\train-images-idx3-ubyte.gz to ../data\\MNIST\\raw\n",
      "\n",
      "Downloading http://yann.lecun.com/exdb/mnist/train-labels-idx1-ubyte.gz\n",
      "Failed to download (trying next):\n",
      "<urlopen error [SSL: CERTIFICATE_VERIFY_FAILED] certificate verify failed: certificate has expired (_ssl.c:1129)>\n",
      "\n",
      "Downloading https://ossci-datasets.s3.amazonaws.com/mnist/train-labels-idx1-ubyte.gz\n",
      "Downloading https://ossci-datasets.s3.amazonaws.com/mnist/train-labels-idx1-ubyte.gz to ../data\\MNIST\\raw\\train-labels-idx1-ubyte.gz\n"
     ]
    },
    {
     "name": "stderr",
     "output_type": "stream",
     "text": [
      "100%|██████████| 28881/28881 [00:00<00:00, 244282.81it/s]\n"
     ]
    },
    {
     "name": "stdout",
     "output_type": "stream",
     "text": [
      "Extracting ../data\\MNIST\\raw\\train-labels-idx1-ubyte.gz to ../data\\MNIST\\raw\n",
      "\n",
      "Downloading http://yann.lecun.com/exdb/mnist/t10k-images-idx3-ubyte.gz\n",
      "Failed to download (trying next):\n",
      "<urlopen error [SSL: CERTIFICATE_VERIFY_FAILED] certificate verify failed: certificate has expired (_ssl.c:1129)>\n",
      "\n",
      "Downloading https://ossci-datasets.s3.amazonaws.com/mnist/t10k-images-idx3-ubyte.gz\n",
      "Downloading https://ossci-datasets.s3.amazonaws.com/mnist/t10k-images-idx3-ubyte.gz to ../data\\MNIST\\raw\\t10k-images-idx3-ubyte.gz\n"
     ]
    },
    {
     "name": "stderr",
     "output_type": "stream",
     "text": [
      "100%|██████████| 1648877/1648877 [00:02<00:00, 679791.23it/s]\n"
     ]
    },
    {
     "name": "stdout",
     "output_type": "stream",
     "text": [
      "Extracting ../data\\MNIST\\raw\\t10k-images-idx3-ubyte.gz to ../data\\MNIST\\raw\n",
      "\n",
      "Downloading http://yann.lecun.com/exdb/mnist/t10k-labels-idx1-ubyte.gz\n",
      "Failed to download (trying next):\n",
      "<urlopen error [SSL: CERTIFICATE_VERIFY_FAILED] certificate verify failed: certificate has expired (_ssl.c:1129)>\n",
      "\n",
      "Downloading https://ossci-datasets.s3.amazonaws.com/mnist/t10k-labels-idx1-ubyte.gz\n",
      "Downloading https://ossci-datasets.s3.amazonaws.com/mnist/t10k-labels-idx1-ubyte.gz to ../data\\MNIST\\raw\\t10k-labels-idx1-ubyte.gz\n"
     ]
    },
    {
     "name": "stderr",
     "output_type": "stream",
     "text": [
      "100%|██████████| 4542/4542 [00:00<00:00, 302889.35it/s]\n"
     ]
    },
    {
     "name": "stdout",
     "output_type": "stream",
     "text": [
      "Extracting ../data\\MNIST\\raw\\t10k-labels-idx1-ubyte.gz to ../data\\MNIST\\raw\n",
      "\n",
      "Dataset MNIST\n",
      "    Number of datapoints: 60000\n",
      "    Root location: ../data\n",
      "    Split: Train\n",
      "    StandardTransform\n",
      "Transform: Compose(\n",
      "               Resize(size=(28, 28), interpolation=bilinear, max_size=None, antialias=True)\n",
      "               ToTensor()\n",
      "           )\n",
      "Reduced Dataset\n",
      "Number of samples:  6000\n",
      "tensor(0.)\n",
      "tensor(1.)\n",
      "Image Size:  torch.Size([1, 28, 28])\n",
      "3\n"
     ]
    }
   ],
   "source": [
    "# downsample image for speed\n",
    "mnist_transforms = torchvision.transforms.Compose([torchvision.transforms.Resize((28,28), interpolation=2), torchvision.transforms.ToTensor()])\n",
    "\n",
    "mnist_train0     = torchvision.datasets.MNIST(root='../data', train=True,  transform=mnist_transforms, download=True)\n",
    "mnist_test       = torchvision.datasets.MNIST(root='../data', train=False, transform=mnist_transforms, download=True)\n",
    "\n",
    "print (mnist_train0)\n",
    "\n",
    "# subsample dataset for speed\n",
    "# to be removed.... and replaced by torch.utils.data.Subset\n",
    "class Subset(torch.utils.data.Dataset):\n",
    "    def __init__(self, dataset, indices):\n",
    "        self.dataset = dataset\n",
    "        self.indices = indices\n",
    "    def __getitem__(self, idx):\n",
    "        return self.dataset[self.indices[idx]]\n",
    "    def __len__(self):\n",
    "        return len(self.indices)\n",
    "mnist_train = Subset(mnist_train0, range(0,len(mnist_train0),10))   \n",
    "\n",
    "print('Reduced Dataset')\n",
    "print('Number of samples: ', len(mnist_train))\n",
    "img, target = mnist_train[3] # load 4th sample\n",
    "print(img.min())\n",
    "print(img.max())\n",
    "\n",
    "\n",
    "print(\"Image Size: \", img.size())\n",
    "print(target)\n",
    "\n",
    "\n",
    "\n"
   ]
  },
  {
   "cell_type": "markdown",
   "metadata": {},
   "source": [
    "### PLOT SOME RANDOM DIGITS"
   ]
  },
  {
   "cell_type": "code",
   "execution_count": 7,
   "metadata": {},
   "outputs": [
    {
     "data": {
      "image/png": "[encoded data removed]",
      "text/plain": [
       "<Figure size 800x400 with 10 Axes>"
      ]
     },
     "metadata": {},
     "output_type": "display_data"
    }
   ],
   "source": [
    "fig, axes = plt.subplots(nrows=2, ncols=5, figsize=(8, 4), squeeze=False)\n",
    "\n",
    "for i in range(10):\n",
    "    r = i // 5\n",
    "    c = i % 5\n",
    "    idx = np.random.choice(len(mnist_train), 1)[0]\n",
    "    x = mnist_train[idx][0].numpy()\n",
    "    y = mnist_train[idx][1]\n",
    "    axes[r, c].imshow(x[0, :, :])\n",
    "    axes[r, c].set_title('y={}'.format(y))\n",
    "    \n",
    "plt.show()"
   ]
  },
  {
   "cell_type": "markdown",
   "metadata": {},
   "source": [
    "### Create multi-threaded DataLoaders"
   ]
  },
  {
   "cell_type": "code",
   "execution_count": 19,
   "metadata": {},
   "outputs": [],
   "source": [
    "trainloader = torch.utils.data.DataLoader(mnist_train, batch_size=64, shuffle=True, num_workers=0)\n",
    "testloader  = torch.utils.data.DataLoader(mnist_test,  batch_size=64, shuffle=True, num_workers=0)"
   ]
  },
  {
   "cell_type": "markdown",
   "metadata": {},
   "source": [
    "# Main classifier that subclasses nn.Module\n",
    "\n",
    "implements:\n",
    "1. multi layer perceptron\n",
    "2. convolutional neural network\n",
    "3. a convolutional neural network with convolution layers only (implement FC with conv)\n",
    "4. residual network\n",
    "\n",
    "Try to improve accuracy\n",
    "\n",
    "Play with the following paramèters:\n",
    "- lr initialization\n",
    "- epochs\n",
    "- train_batch_size\n",
    "- More hidden layers\n",
    "- Convolutions + max pooling\n",
    "- Dropout\n",
    "- Residual layers\n",
    "- changer l'algorithme de descente de gradient (Adam)\n",
    "- implement early stopping\n",
    "- lr scheduling\n",
    "\n"
   ]
  },
  {
   "cell_type": "markdown",
   "metadata": {},
   "source": [
    "#### Multi Layer Perceptron"
   ]
  },
  {
   "cell_type": "code",
   "execution_count": 20,
   "metadata": {},
   "outputs": [],
   "source": [
    "class MLPNet(nn.Module):\n",
    "    def __init__(self,s):\n",
    "        super(MLPNet, self).__init__()\n",
    "        self.name = 'mlp'\n",
    "        self.s    = s\n",
    "        self.fc1  = nn.Linear(int(np.prod(s)), 10)\n",
    "\n",
    "    def forward(self, x):\n",
    "        x = x.view(-1, int(np.prod(self.s)))  # flatten images\n",
    "        x = self.fc1(x)\n",
    "        return (x)\n",
    "\n",
    "# TODO\n",
    "\n",
    "class MLPNet2(nn.Module):\n",
    "    def __init__(self,s):\n",
    "        super(MLPNet2, self).__init__()\n",
    "        self.name = 'mlpnet2'\n",
    "        self.s    = s\n",
    "        self.fc1  = nn.Linear(int(np.prod(s)), 100)\n",
    "        self.fc2  = nn.Linear(100, 10)\n",
    "\n",
    "    def forward(self, x):\n",
    "        x = x.view(-1, int(np.prod(self.s)))  # flatten images\n",
    "        x = self.fc1(x)\n",
    "        x = F.relu(x) # fonction activation\n",
    "        x = self.fc2(x)\n",
    "        return (x)\n"
   ]
  },
  {
   "cell_type": "markdown",
   "metadata": {},
   "source": [
    "#### Convolutional Neural Network"
   ]
  },
  {
   "cell_type": "code",
   "execution_count": 47,
   "metadata": {},
   "outputs": [],
   "source": [
    "class ConvNet(nn.Module):\n",
    "    \"\"\"Convnet Classifier\"\"\"\n",
    "    def __init__(self):\n",
    "        super(ConvNet,self).__init__()\n",
    "        self.name = 'CNN1'\n",
    "        self.conv = nn.Sequential(\n",
    "            nn.Conv2d(in_channels=1,out_channels=6,kernel_size=5,stride=1,padding=0),\n",
    "            nn.ReLU(),\n",
    "            nn.MaxPool2d(kernel_size=2, stride=2), #reduit la taille denotre image par 2\n",
    "\n",
    "            nn.Conv2d(in_channels=6,out_channels=16,kernel_size=5,stride=1,padding=0),\n",
    "            nn.ReLU(),\n",
    "            nn.MaxPool2d(kernel_size=2, stride=2), #reduit la taille denotre image par 2\n",
    "    \n",
    "        )\n",
    "\n",
    "        # Logistic Regression\n",
    "        self.fc = nn.Linear(128, 10) # change dimensions PROF\n",
    "\n",
    "        self.fc_input_dim = 16 * 4 * 4  # 4x4 est la taille après les convolutions et le pooling\n",
    "        \n",
    "        # Couches entièrement connectées (fully connected)\n",
    "        self.fc = nn.Sequential(\n",
    "            nn.Linear(in_features=self.fc_input_dim, out_features=120),\n",
    "            nn.ReLU(),\n",
    "            nn.Linear(in_features=120, out_features=84),\n",
    "            nn.ReLU(),\n",
    "            nn.Linear(in_features=84, out_features=10)\n",
    "        )\n",
    "\n",
    "    def forward(self, x):\n",
    "        # conv\n",
    "        # flatten\n",
    "        # linear\n",
    "        # x = x.view(-1, int(np.prod(self.s)))  # flatten images\n",
    "        x = self.conv(x)\n",
    "        x = x.view(-1,  self.fc_input_dim)  # flatten images\n",
    "        x = self.fc(x)\n",
    "        return x\n",
    "    \n",
    "    \n",
    "    \n",
    "    \n",
    "    \n",
    "\n",
    "class ResBlock(nn.Module):\n",
    "    expansion = 1\n",
    "    def __init__(self, nchannel):\n",
    "        super(ResBlock, self).__init__()\n",
    "        \n",
    "    def forward(self, x):\n",
    "        return x\n",
    "    \n",
    "    \n",
    "    \n",
    "class ResNet(nn.Module):\n",
    "\n",
    "    def __init__(self, num_classes=10):\n",
    "        super(ResNet, self).__init__()\n",
    "        self.name    = 'resnet'\n",
    "        \n",
    "    def forward(self, x):\n",
    "        return x\n",
    "\n",
    "    "
   ]
  },
  {
   "cell_type": "code",
   "execution_count": 48,
   "metadata": {},
   "outputs": [],
   "source": [
    "## initialize the network parameters\n",
    "\n",
    "def init_params(net):\n",
    "    '''Init layer parameters.'''\n",
    "    for m in net.modules():\n",
    "        #print(m)\n",
    "        if isinstance(m, nn.Conv2d):\n",
    "            init.kaiming_normal_(m.weight, mode='fan_out')\n",
    "            #if m.bias:\n",
    "            #init.constant_(m.bias, 0)\n",
    "        elif isinstance(m, nn.BatchNorm2d):\n",
    "            init.constant_(m.weight, 1)\n",
    "            init.constant_(m.bias, 0)\n",
    "        elif isinstance(m, nn.Linear):\n",
    "            init.normal_(m.weight, std=1e-3)\n",
    "            #if m.bias:\n",
    "            init.constant_(m.bias, 0) "
   ]
  },
  {
   "cell_type": "code",
   "execution_count": 49,
   "metadata": {},
   "outputs": [
    {
     "name": "stdout",
     "output_type": "stream",
     "text": [
      "use CPU\n"
     ]
    }
   ],
   "source": [
    "if torch.cuda.is_available():\n",
    "    print('use cuda')\n",
    "    device = torch.device('cuda')\n",
    "else:\n",
    "    print('use CPU')\n",
    "    device = torch.device('cpu')"
   ]
  },
  {
   "cell_type": "code",
   "execution_count": 50,
   "metadata": {},
   "outputs": [],
   "source": [
    "dlossesTR    = {}\n",
    "dlossesTRAll = {}\n",
    "dlossesTE    = {}\n",
    "didxEpoch    = {}\n",
    "dbestAcc     = {}\n",
    "dnbParam     = {}"
   ]
  },
  {
   "cell_type": "code",
   "execution_count": 67,
   "metadata": {},
   "outputs": [
    {
     "name": "stdout",
     "output_type": "stream",
     "text": [
      "mlp_lr0_1.0e-03\n"
     ]
    }
   ],
   "source": [
    "s = mnist_train[0][0].size()\n",
    "\n",
    "net = MLPNet(s)\n",
    "# net = ConvNet()\n",
    "#net = ResNet()\n",
    "\n",
    "# randon init of the network weight\n",
    "init_params(net)\n",
    "\n",
    "\n",
    "lr0 = 1e-5\n",
    "lr0 = 1e-3\n",
    "\n",
    "\n",
    "test_name = net.name + '_lr0_' + \"{:.1e}\".format(lr0)\n",
    "print(test_name)\n",
    "\n",
    "# transfer the network on gpu if avalaible\n",
    "net = net.to(device)\n",
    "\n",
    "optimizer = torch.optim.Adam(net.parameters(), lr=lr0)\n",
    "criterion = nn.CrossEntropyLoss()\n",
    "\n",
    "# scheduler = torch.optim.lr_scheduler.StepLR(optimizer, step_size=5, gamma=0.5)\n",
    "lr_step  = 5\n",
    "lr_gamma = 0.1\n"
   ]
  },
  {
   "cell_type": "code",
   "execution_count": 68,
   "metadata": {
    "scrolled": true
   },
   "outputs": [
    {
     "name": "stdout",
     "output_type": "stream",
     "text": [
      "0.001\n",
      "Epoch : 0 Train Loss : 1.372         time: 1.500\n",
      "Epoch : 0 Test Loss  : 0.860        Test Acc 82.970       time: 1.883\n",
      "--------------------------------------------------------------\n",
      "0.001\n",
      "Epoch : 1 Train Loss : 0.730         time: 1.387\n",
      "Epoch : 1 Test Loss  : 0.637        Test Acc 84.800       time: 2.077\n",
      "--------------------------------------------------------------\n",
      "0.001\n",
      "Epoch : 2 Train Loss : 0.572         time: 1.360\n",
      "Epoch : 2 Test Loss  : 0.541        Test Acc 86.420       time: 2.026\n",
      "--------------------------------------------------------------\n",
      "0.001\n",
      "Epoch : 3 Train Loss : 0.496         time: 1.350\n",
      "Epoch : 3 Test Loss  : 0.486        Test Acc 87.240       time: 1.853\n",
      "--------------------------------------------------------------\n",
      "0.001\n",
      "Epoch : 4 Train Loss : 0.449         time: 1.370\n",
      "Epoch : 4 Test Loss  : 0.458        Test Acc 87.710       time: 2.018\n",
      "--------------------------------------------------------------\n",
      "0.0001\n",
      "Epoch : 5 Train Loss : 0.416         time: 1.250\n",
      "Epoch : 5 Test Loss  : 0.438        Test Acc 88.130       time: 2.227\n",
      "--------------------------------------------------------------\n",
      "0.0001\n",
      "Epoch : 6 Train Loss : 0.393         time: 1.395\n",
      "Epoch : 6 Test Loss  : 0.414        Test Acc 88.600       time: 2.042\n",
      "--------------------------------------------------------------\n",
      "0.0001\n",
      "Epoch : 7 Train Loss : 0.374         time: 1.256\n",
      "Epoch : 7 Test Loss  : 0.404        Test Acc 88.810       time: 1.905\n",
      "--------------------------------------------------------------\n",
      "0.0001\n",
      "Epoch : 8 Train Loss : 0.358         time: 1.251\n",
      "Epoch : 8 Test Loss  : 0.403        Test Acc 88.890       time: 1.945\n",
      "--------------------------------------------------------------\n",
      "0.0001\n",
      "Epoch : 9 Train Loss : 0.345         time: 1.258\n",
      "Epoch : 9 Test Loss  : 0.396        Test Acc 89.030       time: 2.120\n",
      "--------------------------------------------------------------\n",
      "1.0000000000000003e-05\n",
      "Epoch : 10 Train Loss : 0.333         time: 1.242\n",
      "Epoch : 10 Test Loss  : 0.380        Test Acc 89.280       time: 1.943\n",
      "--------------------------------------------------------------\n",
      "1.0000000000000003e-05\n",
      "Epoch : 11 Train Loss : 0.325         time: 1.255\n",
      "Epoch : 11 Test Loss  : 0.381        Test Acc 89.350       time: 1.921\n",
      "--------------------------------------------------------------\n",
      "1.0000000000000003e-05\n",
      "Epoch : 12 Train Loss : 0.316         time: 1.252\n",
      "Epoch : 12 Test Loss  : 0.376        Test Acc 89.620       time: 2.078\n",
      "--------------------------------------------------------------\n",
      "1.0000000000000003e-05\n",
      "Epoch : 13 Train Loss : 0.308         time: 1.191\n",
      "Epoch : 13 Test Loss  : 0.370        Test Acc 89.730       time: 1.829\n",
      "--------------------------------------------------------------\n",
      "1.0000000000000003e-05\n",
      "Epoch : 14 Train Loss : 0.301         time: 1.197\n",
      "Epoch : 14 Test Loss  : 0.364        Test Acc 89.850       time: 1.859\n",
      "--------------------------------------------------------------\n",
      "1.0000000000000002e-06\n",
      "Epoch : 15 Train Loss : 0.293         time: 1.196\n",
      "Epoch : 15 Test Loss  : 0.366        Test Acc 89.740       time: 1.849\n",
      "--------------------------------------------------------------\n",
      "1.0000000000000002e-06\n",
      "Epoch : 16 Train Loss : 0.289         time: 1.293\n",
      "Epoch : 16 Test Loss  : 0.360        Test Acc 89.760       time: 2.178\n",
      "--------------------------------------------------------------\n",
      "1.0000000000000002e-06\n",
      "Epoch : 17 Train Loss : 0.282         time: 1.248\n",
      "Epoch : 17 Test Loss  : 0.362        Test Acc 89.680       time: 1.924\n",
      "--------------------------------------------------------------\n",
      "1.0000000000000002e-06\n",
      "Epoch : 18 Train Loss : 0.278         time: 1.207\n",
      "Epoch : 18 Test Loss  : 0.358        Test Acc 89.980       time: 1.876\n",
      "--------------------------------------------------------------\n",
      "1.0000000000000002e-06\n",
      "Epoch : 19 Train Loss : 0.273         time: 1.187\n",
      "Epoch : 19 Test Loss  : 0.360        Test Acc 90.000       time: 1.916\n",
      "--------------------------------------------------------------\n"
     ]
    }
   ],
   "source": [
    "# to store losses for all epochs / iterations\n",
    "lossesTR    = []\n",
    "lossesTRAll = []\n",
    "lossesTE    = []\n",
    "idxEpoch    = [0]\n",
    "bestAcc     = 0\n",
    "\n",
    "# iterate for each epoch\n",
    "for epoch in range(20):\n",
    "    # potentially decrease lr \n",
    "    # scheduler.step()\n",
    "    lr = lr0 * lr_gamma**int(epoch/lr_step)\n",
    "    optimizer.lr = lr\n",
    "    print (lr)\n",
    "    \n",
    "    losses = []\n",
    "    # Train : 1 epoch <-> loop once one the entire training dataset\n",
    "    start = time.time()\n",
    "    for batch_idx, (inputs, targets) in enumerate(trainloader):\n",
    "        #if cuda_available:\n",
    "        #    inputs, targets = inputs.cuda(), targets.cuda()\n",
    "        # transfer to GPU if avalaible\n",
    "        inputs, targets = inputs.to(device), targets.to(device)\n",
    "\n",
    "        \n",
    "        # clear gradient    \n",
    "        optimizer.zero_grad()\n",
    "        \n",
    "        # convert input to Variable\n",
    "        #inputs, targets = Variable(inputs), Variable(targets)\n",
    "        \n",
    "        # compute the output of the network for the given inputs\n",
    "        outputs = net(inputs)\n",
    "        \n",
    "        # compute the loss function\n",
    "        loss = criterion(outputs, targets)\n",
    "        \n",
    "        # compute the gradient w.r. to all weights \n",
    "        loss.backward()\n",
    "        \n",
    "        # one update of the parameter update\n",
    "        optimizer.step()\n",
    "        \n",
    "        # store loss of the current iterate\n",
    "        losses.append(loss.data.item())\n",
    "        lossesTRAll.append(loss.data.item())\n",
    "    \n",
    "    end = time.time()\n",
    "    # meanlosses = torch.mean(torch.stack(losses)) \n",
    "    lossesTR.append(np.mean(losses))\n",
    "    idxEpoch.append(idxEpoch[-1] + len(losses))\n",
    "    print('Epoch : %d Train Loss : %.3f         time: %.3f' % (epoch, np.mean(losses),end-start))\n",
    "    \n",
    "    # Evaluate the current network on the validation dataset\n",
    "    net.eval()\n",
    "    total = 0\n",
    "    correct = 0\n",
    "    losses = []\n",
    "    start = time.time()\n",
    "    for batch_idx, (inputs, targets) in enumerate(testloader):\n",
    "        # transfer to GPU if avalaible\n",
    "        inputs, targets = inputs.to(device), targets.to(device)\n",
    "\n",
    "        outputs = net(inputs)\n",
    "        loss = criterion(outputs, targets)\n",
    "        losses.append(loss.data.item())\n",
    "        _, predicted = torch.max(outputs.data, 1)\n",
    "        total += targets.size(0)\n",
    "        correct += predicted.eq(targets.data).cpu().sum()\n",
    "    end = time.time()\n",
    "    lossesTE.append(np.mean(losses))\n",
    "    \n",
    "\n",
    "    bestAcc = max(bestAcc,100.*correct/total)\n",
    "    print('Epoch : %d Test Loss  : %.3f        Test Acc %.3f       time: %.3f' % (epoch, np.mean(losses),100.*correct/total,end-start))\n",
    "    print('--------------------------------------------------------------')\n",
    "    net.train()"
   ]
  },
  {
   "cell_type": "markdown",
   "metadata": {},
   "source": [
    "### plot learning curves"
   ]
  },
  {
   "cell_type": "code",
   "execution_count": 70,
   "metadata": {},
   "outputs": [
    {
     "name": "stdout",
     "output_type": "stream",
     "text": [
      "----------------------------------------------------------------------------\n",
      "----------------------------------------------------------------------------\n",
      "----------------------------------------------------------------------------\n",
      "mlp_lr0_1.0e-01\n",
      "best accuracy      : 87.76000213623047\n",
      "best loss on train : 0.3666555497874605 idx 18\n",
      "best loss on test  : 0.8657909850026392 idx 0\n",
      "n param            : 7850\n"
     ]
    },
    {
     "data": {
      "image/png": "[encoded data removed]",
      "text/plain": [
       "<Figure size 640x480 with 1 Axes>"
      ]
     },
     "metadata": {},
     "output_type": "display_data"
    },
    {
     "name": "stdout",
     "output_type": "stream",
     "text": [
      "----------------------------------------------------------------------------\n",
      "----------------------------------------------------------------------------\n",
      "----------------------------------------------------------------------------\n",
      "mlp_lr0_1.0e-03\n",
      "best accuracy      : 90.0\n",
      "best loss on train : 0.27318124726731724 idx 19\n",
      "best loss on test  : 0.35822742076436426 idx 18\n",
      "n param            : 7850\n"
     ]
    },
    {
     "data": {
      "image/png": "[encoded data removed]",
      "text/plain": [
       "<Figure size 640x480 with 1 Axes>"
      ]
     },
     "metadata": {},
     "output_type": "display_data"
    },
    {
     "name": "stdout",
     "output_type": "stream",
     "text": [
      "----------------------------------------------------------------------------\n",
      "----------------------------------------------------------------------------\n",
      "----------------------------------------------------------------------------\n",
      "mlp_lr0_1.0e-05\n",
      "best accuracy      : 76.94000244140625\n",
      "best loss on train : 1.7696088362247386 idx 19\n",
      "best loss on test  : 1.7439965655089944 idx 19\n",
      "n param            : 7850\n"
     ]
    },
    {
     "data": {
      "image/png": "[encoded data removed]",
      "text/plain": [
       "<Figure size 640x480 with 1 Axes>"
      ]
     },
     "metadata": {},
     "output_type": "display_data"
    }
   ],
   "source": [
    "# to store losses for all epochs / iterations\n",
    "lossesTR\n",
    "dlossesTR[test_name]    = lossesTR\n",
    "dlossesTRAll[test_name] = lossesTRAll\n",
    "dlossesTE[test_name]    = lossesTE\n",
    "didxEpoch[test_name]    = idxEpoch\n",
    "dbestAcc[test_name]     = bestAcc\n",
    "dnbParam[test_name]     = count_parameters(net)\n",
    "\n",
    "#for n in ['convnet', 'CNN2']:\n",
    "for n in [ 'mlp_lr0_1.0e-01', 'mlp_lr0_1.0e-03', 'mlp_lr0_1.0e-05' ]: # ajouter dans cette liste le nom des reseaux que vous tester \n",
    "    if n in dlossesTR:\n",
    "        print ('----------------------------------------------------------------------------')\n",
    "        print ('----------------------------------------------------------------------------')\n",
    "        print ('----------------------------------------------------------------------------')\n",
    "        print (n)\n",
    "        print ('best accuracy      : '+str(dbestAcc[n].item()))\n",
    "        print ('best loss on train : '+str(np.min(dlossesTR[n])) + ' idx '+str(np.argmin(dlossesTR[n])))\n",
    "        print ('best loss on test  : '+str(np.min(dlossesTE[n])) + ' idx '+str(np.argmin(dlossesTE[n])))\n",
    "        print ('n param            : '+str(dnbParam[n]))\n",
    "\n",
    "        # evenly sampled time at 200ms intervals\n",
    "        t = np.arange(0, len(dlossesTRAll[n]))\n",
    "\n",
    "        plt.plot(didxEpoch[n][1:], dlossesTR[n], 'ro', didxEpoch[n][1:], dlossesTE[n], 'g+')\n",
    "        plt.plot(t, dlossesTRAll[n], 'b', didxEpoch[n][1:], dlossesTR[n], 'ro', didxEpoch[n][1:], dlossesTE[n], 'gs')\n",
    "        plt.title(n)\n",
    "        plt.show()"
   ]
  },
  {
   "cell_type": "code",
   "execution_count": null,
   "metadata": {},
   "outputs": [],
   "source": []
  },
  {
   "cell_type": "markdown",
   "metadata": {},
   "source": [
    "MLP RESULT : en rouge (train), en vert (test)\n",
    "en changeant le learning rate : \n",
    "\n",
    "- avec 1e-01, on arrive très vite à de l'overfitting (sur apprentissage) le modèle à vite appris les données, la loss du train diminue mais la loss du test augmente\n",
    "\n",
    "- avec 1e-05 le learining rate est trop faible, la pente est super longue, il faudrait augmenter le nombre d'itération pour voir si on converge vers quelque chose\n",
    "\n",
    "- avec 1e-03, on voit que les 2 diminue et qu ela best accuracy à augmenté, on est correct !"
   ]
  }
 ],
 "metadata": {
  "kernelspec": {
   "display_name": "env_msi",
   "language": "python",
   "name": "python3"
  },
  "language_info": {
   "codemirror_mode": {
    "name": "ipython",
    "version": 3
   },
   "file_extension": ".py",
   "mimetype": "text/x-python",
   "name": "python",
   "nbconvert_exporter": "python",
   "pygments_lexer": "ipython3",
   "version": "3.9.13"
  }
 },
 "nbformat": 4,
 "nbformat_minor": 4
}
