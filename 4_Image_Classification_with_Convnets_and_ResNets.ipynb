{
 "cells": [
  {
   "cell_type": "markdown",
   "metadata": {},
   "source": [
    "## PyTorch Tutorial\n",
    "\n",
    "\n",
    "M Sdika\n",
    "\n",
    "Adapted from\n",
    "\n",
    "    https://github.com/mila-udem/welcome_tutorials/tree/master/pytorch\n",
    "\n"
   ]
  },
  {
   "cell_type": "markdown",
   "metadata": {},
   "source": [
    "## Classifying MNIST & CIFAR-10 with Convnets & ResNets"
   ]
  },
  {
   "cell_type": "code",
   "execution_count": 1,
   "metadata": {},
   "outputs": [],
   "source": [
    "import time\n",
    "import numpy as np\n"
   ]
  },
  {
   "cell_type": "code",
   "execution_count": 2,
   "metadata": {},
   "outputs": [],
   "source": [
    "import torch\n",
    "import torch.nn as nn\n",
    "import torch.optim as optim\n",
    "import torch.nn.init as init\n",
    "import torch.nn.functional as F\n"
   ]
  },
  {
   "cell_type": "code",
   "execution_count": 3,
   "metadata": {},
   "outputs": [],
   "source": [
    "import torchvision\n",
    "import torchvision.transforms"
   ]
  },
  {
   "cell_type": "code",
   "execution_count": 4,
   "metadata": {},
   "outputs": [],
   "source": [
    "import matplotlib.pyplot as plt"
   ]
  },
  {
   "cell_type": "code",
   "execution_count": 5,
   "metadata": {},
   "outputs": [],
   "source": [
    "def count_parameters(model):\n",
    "    #for parameter in model.parameters():\n",
    "    #    print(parameter)\n",
    "    #print ('nb of trainable parameters')\n",
    "    return (sum([p.numel() for p in model.parameters() if p.requires_grad]))\n"
   ]
  },
  {
   "cell_type": "markdown",
   "metadata": {},
   "source": [
    "### Define image transformations &  Initialize datasets"
   ]
  },
  {
   "cell_type": "code",
   "execution_count": 6,
   "metadata": {},
   "outputs": [
    {
     "name": "stdout",
     "output_type": "stream",
     "text": [
      "Dataset MNIST\n",
      "    Number of datapoints: 60000\n",
      "    Root location: ../data\n",
      "    Split: Train\n",
      "    StandardTransform\n",
      "Transform: Compose(\n",
      "               Resize(size=(28, 28), interpolation=bilinear, max_size=None, antialias=None)\n",
      "               ToTensor()\n",
      "           )\n",
      "Reduced Dataset\n",
      "Number of samples:  6000\n",
      "tensor(0.)\n",
      "tensor(1.)\n",
      "Image Size:  torch.Size([1, 28, 28])\n",
      "3\n"
     ]
    },
    {
     "name": "stderr",
     "output_type": "stream",
     "text": [
      "/home/conda/miniconda3/envs/cuda11/lib/python3.10/site-packages/torchvision/transforms/transforms.py:329: UserWarning: Argument 'interpolation' of type int is deprecated since 0.13 and will be removed in 0.15. Please use InterpolationMode enum.\n",
      "  warnings.warn(\n"
     ]
    }
   ],
   "source": [
    "# downsample image for speed\n",
    "mnist_transforms = torchvision.transforms.Compose([torchvision.transforms.Resize((28,28), interpolation=2), torchvision.transforms.ToTensor()])\n",
    "\n",
    "mnist_train0     = torchvision.datasets.MNIST(root='../data', train=True,  transform=mnist_transforms, download=True)\n",
    "mnist_test       = torchvision.datasets.MNIST(root='../data', train=False, transform=mnist_transforms, download=True)\n",
    "\n",
    "print (mnist_train0)\n",
    "\n",
    "# subsample dataset for speed\n",
    "# to be removed.... and replaced by torch.utils.data.Subset\n",
    "class Subset(torch.utils.data.Dataset):\n",
    "    def __init__(self, dataset, indices):\n",
    "        self.dataset = dataset\n",
    "        self.indices = indices\n",
    "    def __getitem__(self, idx):\n",
    "        return self.dataset[self.indices[idx]]\n",
    "    def __len__(self):\n",
    "        return len(self.indices)\n",
    "mnist_train = Subset(mnist_train0, range(0,len(mnist_train0),10))   \n",
    "\n",
    "print('Reduced Dataset')\n",
    "print('Number of samples: ', len(mnist_train))\n",
    "img, target = mnist_train[3] # load 4th sample\n",
    "print(img.min())\n",
    "print(img.max())\n",
    "\n",
    "\n",
    "print(\"Image Size: \", img.size())\n",
    "print(target)\n",
    "\n",
    "\n",
    "\n"
   ]
  },
  {
   "cell_type": "markdown",
   "metadata": {},
   "source": [
    "### PLOT SOME RANDOM DIGITS"
   ]
  },
  {
   "cell_type": "code",
   "execution_count": 7,
   "metadata": {},
   "outputs": [
    {
     "data": {
      "image/png": "[encoded data removed]",
      "text/plain": [
       "<Figure size 800x400 with 10 Axes>"
      ]
     },
     "metadata": {},
     "output_type": "display_data"
    }
   ],
   "source": [
    "fig, axes = plt.subplots(nrows=2, ncols=5, figsize=(8, 4), squeeze=False)\n",
    "\n",
    "for i in range(10):\n",
    "    r = i // 5\n",
    "    c = i % 5\n",
    "    idx = np.random.choice(len(mnist_train), 1)[0]\n",
    "    x = mnist_train[idx][0].numpy()\n",
    "    y = mnist_train[idx][1]\n",
    "    axes[r, c].imshow(x[0, :, :])\n",
    "    axes[r, c].set_title('y={}'.format(y))\n",
    "    \n",
    "plt.show()"
   ]
  },
  {
   "cell_type": "markdown",
   "metadata": {},
   "source": [
    "### Create multi-threaded DataLoaders"
   ]
  },
  {
   "cell_type": "code",
   "execution_count": 8,
   "metadata": {},
   "outputs": [],
   "source": [
    "trainloader = torch.utils.data.DataLoader(mnist_train, batch_size=64, shuffle=True, num_workers=2)\n",
    "testloader  = torch.utils.data.DataLoader(mnist_test,  batch_size=64, shuffle=True, num_workers=2)"
   ]
  },
  {
   "cell_type": "markdown",
   "metadata": {},
   "source": [
    "# Main classifier that subclasses nn.Module\n",
    "\n",
    "implements:\n",
    "1. multi layer perceptron\n",
    "2. convolutional neural network\n",
    "3. a convolutional neural network with convolution layers only (implement FC with conv)\n",
    "4. residual network\n",
    "\n",
    "Try to improve accuracy\n",
    "\n",
    "Play with the following paramèters:\n",
    "- lr initialization\n",
    "- epochs\n",
    "- train_batch_size\n",
    "- More hidden layers\n",
    "- Convolutions + max pooling\n",
    "- Dropout\n",
    "- Residual layers\n",
    "- changer l'algorithme de descente de gradient (Adam)\n",
    "- implement early stopping\n",
    "- lr scheduling\n",
    "\n"
   ]
  },
  {
   "cell_type": "markdown",
   "metadata": {},
   "source": [
    "#### Multi Layer Perceptron"
   ]
  },
  {
   "cell_type": "code",
   "execution_count": 9,
   "metadata": {},
   "outputs": [],
   "source": [
    "class MLPNet(nn.Module):\n",
    "    def __init__(self,s):\n",
    "        super(MLPNet, self).__init__()\n",
    "        self.name = 'mlp'\n",
    "        self.s    = s\n",
    "        self.fc1  = nn.Linear(int(np.prod(s)), 10)\n",
    "\n",
    "    def forward(self, x):\n",
    "        x = x.view(-1, int(np.prod(self.s)))  # flatten images\n",
    "        x = self.fc1(x)\n",
    "        return (x)\n",
    "\n",
    "# TODO\n",
    "\n",
    "class MLPNet2(nn.Module):\n",
    "    def __init__(self,s):\n",
    "        super(MLPNet2, self).__init__()\n",
    "        self.name = 'mlpnet2'\n",
    "        self.s    = s\n",
    "        self.fc1  = nn.Linear(int(np.prod(s)), 100)\n",
    "        self.fc2  = nn.Linear(100, 10)\n",
    "\n",
    "    def forward(self, x):\n",
    "        x = x.view(-1, int(np.prod(self.s)))  # flatten images\n",
    "        x = self.fc1(x)\n",
    "        x = F.relu(x)\n",
    "        x = self.fc2(x)\n",
    "        return (x)\n"
   ]
  },
  {
   "cell_type": "markdown",
   "metadata": {},
   "source": [
    "#### Convolutional Neural Network"
   ]
  },
  {
   "cell_type": "code",
   "execution_count": 10,
   "metadata": {},
   "outputs": [],
   "source": [
    "class ConvNet(nn.Module):\n",
    "    \"\"\"Convnet Classifier\"\"\"\n",
    "    def __init__(self):\n",
    "        super(ConvNet,self).__init__()\n",
    "        self.name = 'CNN1'\n",
    "        self.conv = 1 # nn.Sequential(.....)\n",
    "\n",
    "        # Logistic Regression\n",
    "        self.fc = nn.Linear(128, 10) # change dimensions\n",
    "\n",
    "    def forward(self, x):\n",
    "        # conv\n",
    "        # flatten\n",
    "        # linear\n",
    "        return ...\n",
    "    \n",
    "    \n",
    "    \n",
    "    \n",
    "    \n",
    "\n",
    "class ResBlock(nn.Module):\n",
    "    expansion = 1\n",
    "    def __init__(self, nchannel):\n",
    "        super(ResBlock, self).__init__()\n",
    "        \n",
    "    def forward(self, x):\n",
    "        return x\n",
    "    \n",
    "    \n",
    "    \n",
    "class ResNet(nn.Module):\n",
    "\n",
    "    def __init__(self, num_classes=10):\n",
    "        super(ResNet, self).__init__()\n",
    "        self.name    = 'resnet'\n",
    "        \n",
    "    def forward(self, x):\n",
    "        return x\n",
    "\n",
    "    "
   ]
  },
  {
   "cell_type": "code",
   "execution_count": 11,
   "metadata": {},
   "outputs": [],
   "source": [
    "## initialize the network parameters\n",
    "\n",
    "def init_params(net):\n",
    "    '''Init layer parameters.'''\n",
    "    for m in net.modules():\n",
    "        #print(m)\n",
    "        if isinstance(m, nn.Conv2d):\n",
    "            init.kaiming_normal_(m.weight, mode='fan_out')\n",
    "            #if m.bias:\n",
    "            #init.constant_(m.bias, 0)\n",
    "        elif isinstance(m, nn.BatchNorm2d):\n",
    "            init.constant_(m.weight, 1)\n",
    "            init.constant_(m.bias, 0)\n",
    "        elif isinstance(m, nn.Linear):\n",
    "            init.normal_(m.weight, std=1e-3)\n",
    "            #if m.bias:\n",
    "            init.constant_(m.bias, 0) "
   ]
  },
  {
   "cell_type": "code",
   "execution_count": 12,
   "metadata": {},
   "outputs": [
    {
     "name": "stdout",
     "output_type": "stream",
     "text": [
      "use cuda\n"
     ]
    }
   ],
   "source": [
    "if torch.cuda.is_available():\n",
    "    print('use cuda')\n",
    "    device = torch.device('cuda')\n",
    "else:\n",
    "    print('use CPU')\n",
    "    device = torch.device('cpu')"
   ]
  },
  {
   "cell_type": "code",
   "execution_count": 13,
   "metadata": {},
   "outputs": [],
   "source": [
    "dlossesTR    = {}\n",
    "dlossesTRAll = {}\n",
    "dlossesTE    = {}\n",
    "didxEpoch    = {}\n",
    "dbestAcc     = {}\n",
    "dnbParam     = {}"
   ]
  },
  {
   "cell_type": "code",
   "execution_count": 21,
   "metadata": {},
   "outputs": [
    {
     "name": "stdout",
     "output_type": "stream",
     "text": [
      "mlp_lr0_1.0e-05\n"
     ]
    }
   ],
   "source": [
    "s = mnist_train[0][0].size()\n",
    "\n",
    "net = MLPNet(s)\n",
    "#net = ConvNet()\n",
    "#net = ResNet()\n",
    "\n",
    "# randon init of the network weight\n",
    "init_params(net)\n",
    "\n",
    "\n",
    "lr0 = 1e-5\n",
    "\n",
    "test_name = net.name + '_lr0_' + \"{:.1e}\".format(lr0)\n",
    "print(test_name)\n",
    "\n",
    "# transfer the network on gpu if avalaible\n",
    "net = net.to(device)\n",
    "\n",
    "optimizer = torch.optim.Adam(net.parameters(), lr=lr0)\n",
    "criterion = nn.CrossEntropyLoss()\n",
    "\n",
    "# scheduler = torch.optim.lr_scheduler.StepLR(optimizer, step_size=5, gamma=0.5)\n",
    "lr_step  = 5\n",
    "lr_gamma = 0.1\n"
   ]
  },
  {
   "cell_type": "code",
   "execution_count": 22,
   "metadata": {
    "scrolled": true
   },
   "outputs": [
    {
     "name": "stdout",
     "output_type": "stream",
     "text": [
      "1e-05\n",
      "Epoch : 0 Train Loss : 2.285         time: 0.391\n",
      "Epoch : 0 Test Loss  : 2.267        Test Acc 55.570       time: 0.585\n",
      "--------------------------------------------------------------\n",
      "1e-05\n",
      "Epoch : 1 Train Loss : 2.253         time: 0.403\n",
      "Epoch : 1 Test Loss  : 2.234        Test Acc 65.640       time: 0.609\n",
      "--------------------------------------------------------------\n",
      "1e-05\n",
      "Epoch : 2 Train Loss : 2.221         time: 0.401\n",
      "Epoch : 2 Test Loss  : 2.202        Test Acc 69.710       time: 0.617\n",
      "--------------------------------------------------------------\n",
      "1e-05\n",
      "Epoch : 3 Train Loss : 2.190         time: 0.425\n",
      "Epoch : 3 Test Loss  : 2.170        Test Acc 70.770       time: 0.599\n",
      "--------------------------------------------------------------\n",
      "1e-05\n",
      "Epoch : 4 Train Loss : 2.160         time: 0.402\n",
      "Epoch : 4 Test Loss  : 2.140        Test Acc 71.920       time: 0.596\n",
      "--------------------------------------------------------------\n",
      "1.0000000000000002e-06\n",
      "Epoch : 5 Train Loss : 2.130         time: 0.415\n",
      "Epoch : 5 Test Loss  : 2.110        Test Acc 72.870       time: 0.636\n",
      "--------------------------------------------------------------\n",
      "1.0000000000000002e-06\n",
      "Epoch : 6 Train Loss : 2.101         time: 0.424\n",
      "Epoch : 6 Test Loss  : 2.080        Test Acc 73.340       time: 0.613\n",
      "--------------------------------------------------------------\n",
      "1.0000000000000002e-06\n",
      "Epoch : 7 Train Loss : 2.072         time: 0.403\n",
      "Epoch : 7 Test Loss  : 2.051        Test Acc 73.850       time: 0.627\n",
      "--------------------------------------------------------------\n",
      "1.0000000000000002e-06\n",
      "Epoch : 8 Train Loss : 2.044         time: 0.409\n",
      "Epoch : 8 Test Loss  : 2.022        Test Acc 74.150       time: 0.613\n",
      "--------------------------------------------------------------\n",
      "1.0000000000000002e-06\n",
      "Epoch : 9 Train Loss : 2.017         time: 0.435\n",
      "Epoch : 9 Test Loss  : 1.994        Test Acc 74.620       time: 0.607\n",
      "--------------------------------------------------------------\n",
      "1.0000000000000002e-07\n",
      "Epoch : 10 Train Loss : 1.990         time: 0.386\n",
      "Epoch : 10 Test Loss  : 1.967        Test Acc 74.770       time: 0.621\n",
      "--------------------------------------------------------------\n",
      "1.0000000000000002e-07\n",
      "Epoch : 11 Train Loss : 1.963         time: 0.388\n",
      "Epoch : 11 Test Loss  : 1.940        Test Acc 75.040       time: 0.628\n",
      "--------------------------------------------------------------\n",
      "1.0000000000000002e-07\n",
      "Epoch : 12 Train Loss : 1.938         time: 0.420\n",
      "Epoch : 12 Test Loss  : 1.914        Test Acc 75.350       time: 0.594\n",
      "--------------------------------------------------------------\n",
      "1.0000000000000002e-07\n",
      "Epoch : 13 Train Loss : 1.912         time: 0.422\n",
      "Epoch : 13 Test Loss  : 1.888        Test Acc 75.630       time: 0.636\n",
      "--------------------------------------------------------------\n",
      "1.0000000000000002e-07\n",
      "Epoch : 14 Train Loss : 1.887         time: 0.417\n",
      "Epoch : 14 Test Loss  : 1.863        Test Acc 75.830       time: 0.626\n",
      "--------------------------------------------------------------\n",
      "1.0000000000000004e-08\n",
      "Epoch : 15 Train Loss : 1.862         time: 0.422\n",
      "Epoch : 15 Test Loss  : 1.838        Test Acc 76.130       time: 0.585\n",
      "--------------------------------------------------------------\n",
      "1.0000000000000004e-08\n",
      "Epoch : 16 Train Loss : 1.838         time: 0.414\n",
      "Epoch : 16 Test Loss  : 1.814        Test Acc 76.340       time: 0.581\n",
      "--------------------------------------------------------------\n",
      "1.0000000000000004e-08\n",
      "Epoch : 17 Train Loss : 1.815         time: 0.397\n",
      "Epoch : 17 Test Loss  : 1.790        Test Acc 76.580       time: 0.614\n",
      "--------------------------------------------------------------\n",
      "1.0000000000000004e-08\n",
      "Epoch : 18 Train Loss : 1.791         time: 0.390\n",
      "Epoch : 18 Test Loss  : 1.766        Test Acc 76.830       time: 0.623\n",
      "--------------------------------------------------------------\n",
      "1.0000000000000004e-08\n",
      "Epoch : 19 Train Loss : 1.768         time: 0.450\n",
      "Epoch : 19 Test Loss  : 1.743        Test Acc 77.050       time: 0.610\n",
      "--------------------------------------------------------------\n"
     ]
    }
   ],
   "source": [
    "# to store losses for all epochs / iterations\n",
    "lossesTR    = []\n",
    "lossesTRAll = []\n",
    "lossesTE    = []\n",
    "idxEpoch    = [0]\n",
    "bestAcc     = 0\n",
    "\n",
    "# iterate for each epoch\n",
    "for epoch in range(20):\n",
    "    # potentially decrease lr \n",
    "    # scheduler.step()\n",
    "    lr = lr0 * lr_gamma**int(epoch/lr_step)\n",
    "    optimizer.lr = lr\n",
    "    print (lr)\n",
    "    \n",
    "    losses = []\n",
    "    # Train : 1 epoch <-> loop once one the entire training dataset\n",
    "    start = time.time()\n",
    "    for batch_idx, (inputs, targets) in enumerate(trainloader):\n",
    "        #if cuda_available:\n",
    "        #    inputs, targets = inputs.cuda(), targets.cuda()\n",
    "        # transfer to GPU if avalaible\n",
    "        inputs, targets = inputs.to(device), targets.to(device)\n",
    "\n",
    "        \n",
    "        # clear gradient    \n",
    "        optimizer.zero_grad()\n",
    "        \n",
    "        # convert input to Variable\n",
    "        #inputs, targets = Variable(inputs), Variable(targets)\n",
    "        \n",
    "        # compute the output of the network for the given inputs\n",
    "        outputs = net(inputs)\n",
    "        \n",
    "        # compute the loss function\n",
    "        loss = criterion(outputs, targets)\n",
    "        \n",
    "        # compute the gradient w.r. to all weights \n",
    "        loss.backward()\n",
    "        \n",
    "        # one update of the parameter update\n",
    "        optimizer.step()\n",
    "        \n",
    "        # store loss of the current iterate\n",
    "        losses.append(loss.data.item())\n",
    "        lossesTRAll.append(loss.data.item())\n",
    "    \n",
    "    end = time.time()\n",
    "    # meanlosses = torch.mean(torch.stack(losses)) \n",
    "    lossesTR.append(np.mean(losses))\n",
    "    idxEpoch.append(idxEpoch[-1] + len(losses))\n",
    "    print('Epoch : %d Train Loss : %.3f         time: %.3f' % (epoch, np.mean(losses),end-start))\n",
    "    \n",
    "    # Evaluate the current network on the validation dataset\n",
    "    net.eval()\n",
    "    total = 0\n",
    "    correct = 0\n",
    "    losses = []\n",
    "    start = time.time()\n",
    "    for batch_idx, (inputs, targets) in enumerate(testloader):\n",
    "        # transfer to GPU if avalaible\n",
    "        inputs, targets = inputs.to(device), targets.to(device)\n",
    "\n",
    "        outputs = net(inputs)\n",
    "        loss = criterion(outputs, targets)\n",
    "        losses.append(loss.data.item())\n",
    "        _, predicted = torch.max(outputs.data, 1)\n",
    "        total += targets.size(0)\n",
    "        correct += predicted.eq(targets.data).cpu().sum()\n",
    "    end = time.time()\n",
    "    lossesTE.append(np.mean(losses))\n",
    "    \n",
    "\n",
    "    bestAcc = max(bestAcc,100.*correct/total)\n",
    "    print('Epoch : %d Test Loss  : %.3f        Test Acc %.3f       time: %.3f' % (epoch, np.mean(losses),100.*correct/total,end-start))\n",
    "    print('--------------------------------------------------------------')\n",
    "    net.train()"
   ]
  },
  {
   "cell_type": "markdown",
   "metadata": {},
   "source": [
    "### plot learning curves"
   ]
  },
  {
   "cell_type": "code",
   "execution_count": 25,
   "metadata": {},
   "outputs": [
    {
     "name": "stdout",
     "output_type": "stream",
     "text": [
      "----------------------------------------------------------------------------\n",
      "----------------------------------------------------------------------------\n",
      "----------------------------------------------------------------------------\n",
      "mlp_lr0_1.0e-01\n",
      "best accuracy      : 88.4000015258789\n",
      "best loss on train : 0.3824855815222923 idx 16\n",
      "best loss on test  : 0.9924431437519705 idx 1\n",
      "n param            : 7850\n"
     ]
    },
    {
     "data": {
      "image/png": "[encoded data removed]",
      "text/plain": [
       "<Figure size 640x480 with 1 Axes>"
      ]
     },
     "metadata": {},
     "output_type": "display_data"
    },
    {
     "name": "stdout",
     "output_type": "stream",
     "text": [
      "----------------------------------------------------------------------------\n",
      "----------------------------------------------------------------------------\n",
      "----------------------------------------------------------------------------\n",
      "mlp_lr0_1.0e-03\n",
      "best accuracy      : 89.94000244140625\n",
      "best loss on train : 0.2727394826868747 idx 19\n",
      "best loss on test  : 0.3570447930010261 idx 19\n",
      "n param            : 7850\n"
     ]
    },
    {
     "data": {
      "image/png": "[encoded data removed]",
      "text/plain": [
       "<Figure size 640x480 with 1 Axes>"
      ]
     },
     "metadata": {},
     "output_type": "display_data"
    },
    {
     "name": "stdout",
     "output_type": "stream",
     "text": [
      "----------------------------------------------------------------------------\n",
      "----------------------------------------------------------------------------\n",
      "----------------------------------------------------------------------------\n",
      "mlp_lr0_1.0e-05\n",
      "best accuracy      : 77.05000305175781\n",
      "best loss on train : 1.76842344948586 idx 19\n",
      "best loss on test  : 1.742839212630205 idx 19\n",
      "n param            : 7850\n"
     ]
    },
    {
     "data": {
      "image/png": "[encoded data removed]",
      "text/plain": [
       "<Figure size 640x480 with 1 Axes>"
      ]
     },
     "metadata": {},
     "output_type": "display_data"
    }
   ],
   "source": [
    "# to store losses for all epochs / iterations\n",
    "lossesTR\n",
    "dlossesTR[test_name]    = lossesTR\n",
    "dlossesTRAll[test_name] = lossesTRAll\n",
    "dlossesTE[test_name]    = lossesTE\n",
    "didxEpoch[test_name]    = idxEpoch\n",
    "dbestAcc[test_name]     = bestAcc\n",
    "dnbParam[test_name]     = count_parameters(net)\n",
    "\n",
    "#for n in ['convnet', 'CNN2']:\n",
    "for n in [ 'mlp_lr0_1.0e-01', 'mlp_lr0_1.0e-03', 'mlp_lr0_1.0e-05' ]: # ajouter dans cette liste le nom des reseaux que vous tester \n",
    "    if n in dlossesTR:\n",
    "        print ('----------------------------------------------------------------------------')\n",
    "        print ('----------------------------------------------------------------------------')\n",
    "        print ('----------------------------------------------------------------------------')\n",
    "        print (n)\n",
    "        print ('best accuracy      : '+str(dbestAcc[n].item()))\n",
    "        print ('best loss on train : '+str(np.min(dlossesTR[n])) + ' idx '+str(np.argmin(dlossesTR[n])))\n",
    "        print ('best loss on test  : '+str(np.min(dlossesTE[n])) + ' idx '+str(np.argmin(dlossesTE[n])))\n",
    "        print ('n param            : '+str(dnbParam[n]))\n",
    "\n",
    "        # evenly sampled time at 200ms intervals\n",
    "        t = np.arange(0, len(dlossesTRAll[n]))\n",
    "\n",
    "        plt.plot(didxEpoch[n][1:], dlossesTR[n], 'ro', didxEpoch[n][1:], dlossesTE[n], 'g+')\n",
    "#        plt.plot(t, dlossesTRAll[n], 'b', didxEpoch[n][1:], dlossesTR[n], 'ro', didxEpoch[n][1:], dlossesTE[n], 'gs')\n",
    "        plt.title(n)\n",
    "        plt.show()"
   ]
  },
  {
   "cell_type": "code",
   "execution_count": null,
   "metadata": {},
   "outputs": [],
   "source": []
  },
  {
   "cell_type": "code",
   "execution_count": null,
   "metadata": {},
   "outputs": [],
   "source": []
  }
 ],
 "metadata": {
  "kernelspec": {
   "display_name": "Python 3 (ipykernel)",
   "language": "python",
   "name": "python3"
  },
  "language_info": {
   "codemirror_mode": {
    "name": "ipython",
    "version": 3
   },
   "file_extension": ".py",
   "mimetype": "text/x-python",
   "name": "python",
   "nbconvert_exporter": "python",
   "pygments_lexer": "ipython3",
   "version": "3.11.7"
  }
 },
 "nbformat": 4,
 "nbformat_minor": 4
}
